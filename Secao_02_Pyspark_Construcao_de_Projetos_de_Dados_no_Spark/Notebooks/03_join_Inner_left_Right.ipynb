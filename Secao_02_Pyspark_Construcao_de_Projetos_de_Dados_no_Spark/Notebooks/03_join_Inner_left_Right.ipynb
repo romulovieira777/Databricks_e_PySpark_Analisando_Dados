{
 "cells": [
  {
   "cell_type": "markdown",
   "id": "8393066c",
   "metadata": {},
   "source": [
    "## Utilizando operações de join, Left e Right"
   ]
  },
  {
   "cell_type": "code",
   "execution_count": 1,
   "id": "86cf7dde",
   "metadata": {},
   "outputs": [],
   "source": [
    "# 1. Importando o SparkSession\n",
    "from pyspark.sql import SparkSession\n",
    "\n",
    "# 2. Criando a sessão Spark\n",
    "spark = SparkSession.builder \\\n",
    "    .appName(\"Leitura_Arquivos\") \\\n",
    "    .getOrCreate()"
   ]
  },
  {
   "cell_type": "code",
   "execution_count": null,
   "id": "7a83da29",
   "metadata": {},
   "outputs": [],
   "source": [
    "# 3. Definindo o caminho do arquivo\n",
    "profissional = \"../Base_de_Dados/Profissionais.txt\"\n",
    "salarios = \"../Base_de_Dados/Salario.txt\""
   ]
  },
  {
   "cell_type": "code",
   "execution_count": 15,
   "id": "cff69e65",
   "metadata": {},
   "outputs": [],
   "source": [
    "# Lendo o arquivo como RDD (cada linha vira um elemento)\n",
    "profissional = spark.sparkContext.textFile(profissional)\n",
    "salario = spark.sparkContext.textFile(salarios)"
   ]
  },
  {
   "cell_type": "code",
   "execution_count": 16,
   "id": "7323dcf5",
   "metadata": {},
   "outputs": [
    {
     "data": {
      "text/plain": [
       "['Carlos,oncologista,hospital',\n",
       " 'Ana,dentista,clinica',\n",
       " 'Fernanda,enfermeira,hospital',\n",
       " 'Sandra,pediatra,clinica',\n",
       " 'Fatima,dentista,clinica',\n",
       " 'Gilmar,cardiologista,hospital',\n",
       " 'Fabio,pediatra,clinica',\n",
       " 'Hilton,enfermeiro,clinica',\n",
       " 'Daiane,dentista,clinica',\n",
       " 'Paulo,farmaceutico,clinica',\n",
       " 'Gilberto,pediatra,hospital']"
      ]
     },
     "execution_count": 16,
     "metadata": {},
     "output_type": "execute_result"
    }
   ],
   "source": [
    "# Exibindo os dados sobre os profissionais\n",
    "profissional.collect()"
   ]
  },
  {
   "cell_type": "code",
   "execution_count": 17,
   "id": "619ea95e",
   "metadata": {},
   "outputs": [
    {
     "data": {
      "text/plain": [
       "['Carlos,10000',\n",
       " 'Ana,7000',\n",
       " 'Fernanda,5000',\n",
       " 'Sandra,6000',\n",
       " 'Fatima,8500',\n",
       " 'Gilmar,9000',\n",
       " 'Fabio,12000',\n",
       " 'Hilton,5000',\n",
       " 'Jefferson,8000',\n",
       " 'Antonio,3000',\n",
       " 'Joaquim,5000']"
      ]
     },
     "execution_count": 17,
     "metadata": {},
     "output_type": "execute_result"
    }
   ],
   "source": [
    "# Exibindo os dados sobre os salários\n",
    "salario.collect()"
   ]
  },
  {
   "cell_type": "code",
   "execution_count": null,
   "id": "fdff5d32",
   "metadata": {},
   "outputs": [],
   "source": [
    "# Realizando o mapeamento de cada campo, o primeiro campo é sempre indice 0\n",
    "profissional_ajuste = profissional.map(lambda x:(x.spllit(\",\")[0], (x.split(\",\")[1], x.split(\",\")[2])))\n",
    "profissional_ajuste.collect()"
   ]
  },
  {
   "cell_type": "code",
   "execution_count": null,
   "id": "a477b747",
   "metadata": {},
   "outputs": [],
   "source": [
    "# Realizando o mapeamento dos campos sobre salario\n",
    "salario_ajuste = salario.map(lambda x:(x.split(\",\")[0], float(x.split(\",\")[1])))\n",
    "salario_ajuste.collect()"
   ]
  },
  {
   "cell_type": "code",
   "execution_count": null,
   "id": "9087c378",
   "metadata": {},
   "outputs": [],
   "source": [
    "# Realizando a operação de join, que significa a busca de todas as informações no RDDs\n",
    "# Profissional e que exista no RDD Salario\n",
    "folha_pagamento_join = profissional_ajuste.join(salario_ajuste)\n",
    "folha_pagamento_join.collect()"
   ]
  },
  {
   "cell_type": "code",
   "execution_count": null,
   "id": "8027c8ff",
   "metadata": {},
   "outputs": [],
   "source": [
    "# Realizando a operação de left join, que significa a busca de todas as informações no RDDs\n",
    "# Profissional e que exista no RDD Salario\n",
    "folha_pagamento_left_join = profissional_ajuste.leftOuterJoin(salario_ajuste)\n",
    "folha_pagamento_left_join.collect()"
   ]
  },
  {
   "cell_type": "code",
   "execution_count": null,
   "id": "3bbb8d09",
   "metadata": {},
   "outputs": [],
   "source": [
    "# Realizando a operação de right join, que significa a busca de todas as informações no RDDs\n",
    "# Profissional e que exista no RDD Salario\n",
    "folha_pagamento_right_join = profissional_ajuste.rightOuterJoin(salario_ajuste)\n",
    "folha_pagamento_right_join.collect()"
   ]
  }
 ],
 "metadata": {
  "kernelspec": {
   "display_name": "Python 3",
   "language": "python",
   "name": "python3"
  },
  "language_info": {
   "codemirror_mode": {
    "name": "ipython",
    "version": 3
   },
   "file_extension": ".py",
   "mimetype": "text/x-python",
   "name": "python",
   "nbconvert_exporter": "python",
   "pygments_lexer": "ipython3",
   "version": "3.12.1"
  }
 },
 "nbformat": 4,
 "nbformat_minor": 5
}
